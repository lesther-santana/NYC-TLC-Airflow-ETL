{
 "cells": [
  {
   "cell_type": "code",
   "execution_count": null,
   "id": "5705eb62",
   "metadata": {},
   "outputs": [],
   "source": [
    "#!pip install --upgrade google-cloud-bigquery"
   ]
  },
  {
   "cell_type": "code",
   "execution_count": 4,
   "id": "68284147",
   "metadata": {},
   "outputs": [],
   "source": [
    "from google.cloud import bigquery\n",
    "import os"
   ]
  },
  {
   "cell_type": "code",
   "execution_count": null,
   "id": "da67cc4d",
   "metadata": {},
   "outputs": [],
   "source": [
    "os.environ[\"GOOGLE_APPLICATION_CREDENTIALS\"] = \"<gcloud .json credentials path>\""
   ]
  },
  {
   "attachments": {},
   "cell_type": "markdown",
   "id": "58d0bcb3",
   "metadata": {},
   "source": [
    "## Query"
   ]
  },
  {
   "cell_type": "code",
   "execution_count": 13,
   "id": "e213d838",
   "metadata": {},
   "outputs": [],
   "source": [
    "client = bigquery.Client()"
   ]
  },
  {
   "attachments": {},
   "cell_type": "markdown",
   "id": "f6686b45",
   "metadata": {},
   "source": [
    "## Create Table"
   ]
  },
  {
   "cell_type": "code",
   "execution_count": null,
   "id": "facc60ba",
   "metadata": {},
   "outputs": [],
   "source": [
    "# Construct a BigQuery client object.\n",
    "client = bigquery.Client()\n",
    "\n",
    "# TODO(developer): Set table_id to the ID of the table to create. \n",
    "dataset = \"<dataset id>\"\n",
    "table_id = f\"{dataset}.HV_FHV\"\n",
    "\n",
    "schema = [\n",
    "    bigquery.SchemaField(\"hvfhs_license_num\", \"STRING\"),\n",
    "    bigquery.SchemaField(\"request_datetime\", \"TIMESTAMP\"),\n",
    "    bigquery.SchemaField(\"pickup_datetime\", \"TIMESTAMP\"),\n",
    "    bigquery.SchemaField(\"dropoff_datetime\", \"TIMESTAMP\"),\n",
    "    bigquery.SchemaField(\"PUlocationID\", \"INTEGER\"),\n",
    "    bigquery.SchemaField(\"DOlocationID\", \"INTEGER\"),\n",
    "    bigquery.SchemaField(\"trip_miles\", \"FLOAT\"),\n",
    "    bigquery.SchemaField(\"trip_time\", \"FLOAT\"),\n",
    "    bigquery.SchemaField(\"base_passenger_fare\", \"FLOAT\"),\n",
    "    bigquery.SchemaField(\"tolls\", \"FLOAT\"),\n",
    "    bigquery.SchemaField(\"airport_fee\", \"FLOAT\"),\n",
    "    bigquery.SchemaField(\"tips\", \"FLOAT\"),\n",
    "    bigquery.SchemaField(\"driver_pay\", \"FLOAT\"),\n",
    "]\n",
    "\n",
    "table = bigquery.Table(table_id, schema=schema)\n",
    "table = client.create_table(table)  # Make an API request.\n",
    "print(\n",
    "    \"Created table {}.{}.{}\".format(table.project, table.dataset_id, table.table_id)\n",
    ")"
   ]
  },
  {
   "cell_type": "code",
   "execution_count": null,
   "id": "11d796d9",
   "metadata": {},
   "outputs": [],
   "source": []
  }
 ],
 "metadata": {
  "kernelspec": {
   "display_name": "Python 3 (ipykernel)",
   "language": "python",
   "name": "python3"
  },
  "language_info": {
   "codemirror_mode": {
    "name": "ipython",
    "version": 3
   },
   "file_extension": ".py",
   "mimetype": "text/x-python",
   "name": "python",
   "nbconvert_exporter": "python",
   "pygments_lexer": "ipython3",
   "version": "3.9.12"
  }
 },
 "nbformat": 4,
 "nbformat_minor": 5
}
